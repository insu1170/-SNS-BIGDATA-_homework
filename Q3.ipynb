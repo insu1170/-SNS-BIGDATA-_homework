{
 "cells": [
  {
   "cell_type": "code",
   "execution_count": 3,
   "id": "e07a7b3d-8cd7-41e5-9253-a5c2706bc0c9",
   "metadata": {},
   "outputs": [
    {
     "name": "stdin",
     "output_type": "stream",
     "text": [
      "검색어를 입력:  바다\n",
      "검색할 이미지 개수를 입력:  5\n",
      "저장할 경로 제대로 넣어 C:\\Users\\UIT801-\\Desktop\\클롤링 사진\n"
     ]
    },
    {
     "name": "stdout",
     "output_type": "stream",
     "text": [
      "다운로드 완료: C:\\Users\\UIT801-\\Desktop\\클롤링 사진\\image_1.jpg\n",
      "다운로드 완료: C:\\Users\\UIT801-\\Desktop\\클롤링 사진\\image_2.jpg\n",
      "다운로드 완료: C:\\Users\\UIT801-\\Desktop\\클롤링 사진\\image_3.jpg\n",
      "다운로드 완료: C:\\Users\\UIT801-\\Desktop\\클롤링 사진\\image_4.jpg\n",
      "다운로드 완료: C:\\Users\\UIT801-\\Desktop\\클롤링 사진\\image_5.jpg\n"
     ]
    }
   ],
   "source": [
    "import os\n",
    "import requests\n",
    "from selenium import webdriver\n",
    "from selenium.webdriver.common.by import By\n",
    "from selenium.webdriver.support.ui import WebDriverWait\n",
    "from selenium.webdriver.support import expected_conditions as EC\n",
    "from selenium.common.exceptions import StaleElementReferenceException\n",
    "\n",
    "# 사용자로부터 검색어와 이미지 개수를 입력받습니다.\n",
    "query = input(\"검색어를 입력: \")\n",
    "count = int(input(\"검색할 이미지 개수를 입력: \"))\n",
    "directory = input(\"저장할 경로 제대로 넣어\")\n",
    "\n",
    "# 웹 드라이버 실행\n",
    "driver = webdriver.Chrome()\n",
    "\n",
    "try:\n",
    "    url = f\"https://pixabay.com/ko/photos/search/{query}/\"\n",
    "    driver.get(url)\n",
    "    \n",
    "    # 이미지 로딩 대기\n",
    "    WebDriverWait(driver, 10).until(EC.presence_of_all_elements_located((By.CSS_SELECTOR, \"img\")))\n",
    "    \n",
    "    # 이미지 요소들을 찾습니다.\n",
    "    images = driver.find_elements(By.CSS_SELECTOR, \"img\")\n",
    "    \n",
    "    # 입력받은 개수만큼 이미지를 처리합니다.\n",
    "    for index, image in enumerate(images[:count], start=1):\n",
    "        try:\n",
    "            image = driver.find_elements(By.CSS_SELECTOR, \"img\")[index - 1]\n",
    "            image_url = image.get_attribute('src')\n",
    "            if not image_url:\n",
    "                continue\n",
    "            \n",
    "            # 다운로드할 폴더를 설정합니다.\n",
    "            download_folder = directory\n",
    "            if not os.path.exists(download_folder):\n",
    "                os.makedirs(download_folder)\n",
    "            \n",
    "            image_filename = os.path.join(download_folder, f\"image_{index}.jpg\")\n",
    "\n",
    "            response = requests.get(image_url)\n",
    "            with open(image_filename, 'wb') as f:\n",
    "                f.write(response.content)\n",
    "            \n",
    "            print(f\"다운로드 완료: {image_filename}\")\n",
    "        \n",
    "        except StaleElementReferenceException:\n",
    "            print(f\"발생: 이미지 {index} 처리 중\")\n",
    "            continue\n",
    "\n",
    "finally:\n",
    "    driver.quit()\n"
   ]
  },
  {
   "cell_type": "code",
   "execution_count": null,
   "id": "0b4b4edc-0d1e-46e8-84a5-883143c6b3bf",
   "metadata": {},
   "outputs": [],
   "source": []
  }
 ],
 "metadata": {
  "kernelspec": {
   "display_name": "Python 3 (ipykernel)",
   "language": "python",
   "name": "python3"
  },
  "language_info": {
   "codemirror_mode": {
    "name": "ipython",
    "version": 3
   },
   "file_extension": ".py",
   "mimetype": "text/x-python",
   "name": "python",
   "nbconvert_exporter": "python",
   "pygments_lexer": "ipython3",
   "version": "3.11.3"
  }
 },
 "nbformat": 4,
 "nbformat_minor": 5
}
