{
 "cells": [
  {
   "cell_type": "code",
   "execution_count": 1,
   "id": "e07a7b3d-8cd7-41e5-9253-a5c2706bc0c9",
   "metadata": {},
   "outputs": [
    {
     "name": "stdin",
     "output_type": "stream",
     "text": [
      "검색어를 입력:  빅데이터\n",
      "pdf파일 개수를 입력  3\n",
      "결과 파일을 저장할 폴더 경로 입력하세요 <제대로>  C:\\Users\\UIT801-\\Desktop\\클롤링 사진\n"
     ]
    },
    {
     "name": "stdout",
     "output_type": "stream",
     "text": [
      "http://www.sigmapress.co.kr/shop/shop_image/g43293_1503541795.pdf\n",
      "1번째 PDF 파일 다운로드 완료.\n",
      "https://smart.science.go.kr/upload_data/subject/bigdata/pdf/B_E_01.pdf\n",
      "PDF 파일 다운로드 실패: HTTPSConnectionPool(host='smart.science.go.kr', port=443): Max retries exceeded with url: /upload_data/subject/bigdata/pdf/B_E_01.pdf (Caused by SSLError(SSLError(1, '[SSL: SSLV3_ALERT_HANDSHAKE_FAILURE] sslv3 alert handshake failure (_ssl.c:1002)')))\n",
      "https://sjeec.or.kr/board/2023/06/15/1686811719_2053930f9494787fc80e.pdf\n",
      "2번째 PDF 파일 다운로드 완료.\n",
      "https://z-inspection.org/wp-content/uploads/2021/03/2021-AI-Ethics-and-Law-0517-%ED%95%9C%EA%B5%AD%EC%97%90%EC%84%9C-%EB%B9%85%EB%8D%B0%EC%9D%B4%ED%84%B0%EB%A5%BC-%EB%91%98%EB%9F%AC%EC%8B%BC-%EB%B2%95%EC%A0%81-%EC%9F%81%EC%A0%90%EA%B3%BC-%EC%A0%9C%EB%8F%84%EC%A0%81-%EA%B3%BC%EC%A0%9C%EA%B2%BD%EC%A0%9C%EA%B7%9C%EC%A0%9C%EC%99%80-%EB%B2%95_SWH.pdf\n",
      "3번째 PDF 파일 다운로드 완료.\n",
      "PDF 파일 다운로드가 완료되었습니다.\n"
     ]
    }
   ],
   "source": [
    "from selenium import webdriver\n",
    "from selenium.webdriver.common.by import By\n",
    "from selenium.webdriver.common.keys import Keys\n",
    "from bs4 import BeautifulSoup\n",
    "import requests\n",
    "import os\n",
    "import time\n",
    "\n",
    "def download_pdf(url, file_path):\n",
    "    response = requests.get(url)\n",
    "    with open(file_path, 'wb') as f:\n",
    "        f.write(response.content)\n",
    "        \n",
    "keyword = input(\"검색어를 입력: \")\n",
    "num = int(input(\"pdf파일 개수를 입력 \"))\n",
    "f_dir = input(\"결과 파일을 저장할 폴더 경로 입력하세요 <제대로> \")\n",
    "\n",
    "# 결과 파일을 저장할 폴더 생성\n",
    "os.makedirs(f_dir, exist_ok=True)\n",
    "\n",
    "# 웹 드라이버 실행\n",
    "driver = webdriver.Chrome()\n",
    "\n",
    "try:\n",
    "    # 구글 검색 페이지로 이동\n",
    "    driver.get(\"https://www.google.com\")\n",
    "\n",
    "    # 검색어 입력란에 검색어 입력 후 검색\n",
    "    search_box = driver.find_element(By.NAME, \"q\")\n",
    "    search_box.send_keys(keyword + \" filetype:pdf\")\n",
    "    search_box.send_keys(Keys.RETURN)\n",
    "    time.sleep(2)\n",
    "\n",
    "    count = 0\n",
    "    while count < num:\n",
    "        # 페이지 소스를 가져와 BeautifulSoup으로 파싱\n",
    "        page_source = driver.page_source\n",
    "        soup = BeautifulSoup(page_source, 'html.parser')\n",
    "\n",
    "        # 검색 결과에서 링크를 찾아 PDF 파일을 다운로드\n",
    "        links = soup.find_all('a', href=True)\n",
    "        for link in links:\n",
    "            href = link['href']\n",
    "            if href.endswith('.pdf'):\n",
    "                print(href)\n",
    "                pdf_url = href\n",
    "                try:\n",
    "                    file_name = os.path.join(f_dir, f\"{count+1}.pdf\")\n",
    "                    download_pdf(pdf_url, file_name)\n",
    "                    print(f\"{count+1}번째 PDF 파일 다운로드 완료.\")\n",
    "                    count += 1\n",
    "                    if count >= num:\n",
    "                        break\n",
    "                except Exception as e:\n",
    "                    print(f\"PDF 파일 다운로드 실패: {str(e)}\")\n",
    "                    continue\n",
    "\n",
    "        if count >= num:\n",
    "            break\n",
    "\n",
    "        # 다음 페이지로 이동\n",
    "        try:\n",
    "            next_button = driver.find_element(By.ID, \"pnnext\")\n",
    "            next_button.click()\n",
    "            time.sleep(2)\n",
    "        except Exception as e:\n",
    "            print(f\"다음 페이지로 이동 실패: {str(e)}\")\n",
    "            break\n",
    "\n",
    "finally:\n",
    "    # 브라우저 종료\n",
    "    driver.quit()\n",
    "\n",
    "print(\"PDF 파일 다운로드가 완료되었습니다.\")\n"
   ]
  },
  {
   "cell_type": "code",
   "execution_count": null,
   "id": "0b4b4edc-0d1e-46e8-84a5-883143c6b3bf",
   "metadata": {},
   "outputs": [],
   "source": []
  }
 ],
 "metadata": {
  "kernelspec": {
   "display_name": "Python 3 (ipykernel)",
   "language": "python",
   "name": "python3"
  },
  "language_info": {
   "codemirror_mode": {
    "name": "ipython",
    "version": 3
   },
   "file_extension": ".py",
   "mimetype": "text/x-python",
   "name": "python",
   "nbconvert_exporter": "python",
   "pygments_lexer": "ipython3",
   "version": "3.11.3"
  }
 },
 "nbformat": 4,
 "nbformat_minor": 5
}
